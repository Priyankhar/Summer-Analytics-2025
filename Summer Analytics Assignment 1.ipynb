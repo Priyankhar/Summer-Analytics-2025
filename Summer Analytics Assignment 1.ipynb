{
 "cells": [
  {
   "cell_type": "code",
   "execution_count": 3,
   "id": "69a2f729-f7e5-4369-9646-cc9e778a7f3e",
   "metadata": {},
   "outputs": [
    {
     "name": "stdout",
     "output_type": "stream",
     "text": [
      "Q1: Car with the highest horsepower: pontiac grand prix\n",
      "Q2: Number of cars with mpg ≥ 35: 36\n",
      "Q3: Most common origin (hp > 100 and weight < 3000): usa\n",
      "Q4: Mean acceleration of Japanese cars: 16.17\n",
      "Q5: Year with the highest average mpg: 80\n",
      "Consistent Car Models (std(mpg) < 1.0, multiple years):\n",
      "                         name  appearances    avg_mpg\n",
      "26           ford galaxie 500            3  14.333333\n",
      "41          plymouth fury iii            3  14.333333\n",
      "49        toyota corolla 1200            2  31.500000\n",
      "35                  mazda 626            2  31.450000\n",
      "53          volkswagen rabbit            2  29.250000\n",
      "21               datsun pl510            2  27.000000\n",
      "45                  saab 99le            2  24.500000\n",
      "51             toyota mark ii            2  19.500000\n",
      "22                dodge aspen            2  18.850000\n",
      "10  chevrolet chevelle malibu            2  17.500000\n",
      "4            amc matador (sw)            2  14.500000\n",
      "28      ford gran torino (sw)            2  13.500000\n",
      "29                   ford ltd            2  13.500000\n"
     ]
    }
   ],
   "source": [
    "# Import necessary library\n",
    "import pandas as pd\n",
    "\n",
    "# Load the dataset\n",
    "df = pd.read_csv(\"Cars.csv\")\n",
    "\n",
    "# Q1: Which car has the highest horsepower?\n",
    "max_hp_car = df.loc[df['horsepower'].idxmax(), 'name']\n",
    "print(\"Q1: Car with the highest horsepower:\", max_hp_car)\n",
    "\n",
    "# Q2: How many cars have mpg ≥ 35?\n",
    "mpg_35_or_more = (df['mpg'] >= 35).sum()\n",
    "print(\"Q2: Number of cars with mpg ≥ 35:\", mpg_35_or_more)\n",
    "\n",
    "# Q3: Most common origin of cars with horsepower > 100 and weight < 3000\n",
    "filtered = df[(df['horsepower'] > 100) & (df['weight'] < 3000)]\n",
    "most_common_origin = filtered['origin'].value_counts().idxmax()\n",
    "print(\"Q3: Most common origin (hp > 100 and weight < 3000):\", most_common_origin)\n",
    "\n",
    "# Q4: Mean acceleration of cars from Japan (rounded to 2 decimals)\n",
    "mean_acc_japan = round(df[df['origin'] == 'japan']['acceleration'].mean(), 2)\n",
    "print(\"Q4: Mean acceleration of Japanese cars:\", mean_acc_japan)\n",
    "\n",
    "# Q5: Which year had the highest average mpg?\n",
    "highest_avg_mpg_year = df.groupby('model_year')['mpg'].mean().idxmax()\n",
    "print(\"Q5: Year with the highest average mpg:\", highest_avg_mpg_year)\n",
    "\n",
    "\n",
    "# Group by 'name' and count unique 'model_year' to find cars produced in multiple years\n",
    "name_year_counts = df.groupby('name')['model_year'].nunique()\n",
    "\n",
    "# Filter names that appear in more than one model_year\n",
    "multi_year_models = name_year_counts[name_year_counts > 1].index\n",
    "\n",
    "# Filter the main dataframe to keep only those cars\n",
    "multi_year_df = df[df['name'].isin(multi_year_models)]\n",
    "\n",
    "# Group by name and compute standard deviation of mpg, count, and mean mpg\n",
    "summary = multi_year_df.groupby('name').agg(\n",
    "    std_mpg=('mpg', 'std'),\n",
    "    appearances=('mpg', 'count'),\n",
    "    avg_mpg=('mpg', 'mean')\n",
    ").reset_index()\n",
    "\n",
    "# Filter for standard deviation < 1.0\n",
    "consistent_models = summary[summary['std_mpg'] < 1.0]\n",
    "\n",
    "# Sort by appearances (descending), then avg_mpg (descending)\n",
    "consistent_sorted = consistent_models.sort_values(by=['appearances', 'avg_mpg'], ascending=[False, False])\n",
    "\n",
    "# Display the result\n",
    "print(\"Consistent Car Models (std(mpg) < 1.0, multiple years):\")\n",
    "print(consistent_sorted[['name', 'appearances', 'avg_mpg']])\n",
    "\n"
   ]
  },
  {
   "cell_type": "code",
   "execution_count": null,
   "id": "2202f941-17e8-43d5-a3fa-2e0a1674aa19",
   "metadata": {},
   "outputs": [],
   "source": []
  }
 ],
 "metadata": {
  "kernelspec": {
   "display_name": "Python 3 (ipykernel)",
   "language": "python",
   "name": "python3"
  },
  "language_info": {
   "codemirror_mode": {
    "name": "ipython",
    "version": 3
   },
   "file_extension": ".py",
   "mimetype": "text/x-python",
   "name": "python",
   "nbconvert_exporter": "python",
   "pygments_lexer": "ipython3",
   "version": "3.12.7"
  }
 },
 "nbformat": 4,
 "nbformat_minor": 5
}
